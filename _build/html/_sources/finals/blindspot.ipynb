{
 "cells": [
  {
   "cell_type": "markdown",
   "metadata": {},
   "source": [
    "# Blind Spot\n",
    "\n",
    "## Helpers"
   ]
  },
  {
   "cell_type": "code",
   "execution_count": 11,
   "metadata": {},
   "outputs": [],
   "source": [
    "import base64\n",
    "import io\n",
    "import numpy as np\n",
    "import os\n",
    "import requests\n",
    "import time\n",
    "from dotenv import load_dotenv\n",
    "from PIL import Image\n",
    "\n",
    "load_dotenv()\n",
    "API_KEY = os.environ[\"API_KEY\"]\n",
    "URL_QUERY = \"https://%s.crucible.dreadnode.io/score\"\n",
    "URL_FLAG = \"https://crucible.dreadnode.io/api/challenges/%s/submit-flag\"\n",
    "CHALLENGE = \"blindspot\"\n",
    "\n",
    "def query(data):\n",
    "    response = requests.post(\n",
    "        URL_QUERY % CHALLENGE,\n",
    "        headers={ \"X-API-Key\": API_KEY },\n",
    "        json={ \"data\": data }\n",
    "    )\n",
    "    return response.json()\n",
    "\n",
    "def submit(flag):\n",
    "    response = requests.post(\n",
    "        URL_FLAG % CHALLENGE,\n",
    "        headers={ \"X-API-Key\": API_KEY },\n",
    "        json={ \"challenge\": CHALLENGE, \"flag\": flag }\n",
    "    )\n",
    "    return False if response.status_code != 200 else response.json().get(\"correct\")"
   ]
  },
  {
   "cell_type": "markdown",
   "metadata": {},
   "source": [
    "## Solution\n",
    "\n",
    "We're given an image of a bird and we need to add enough noise to the image to fool the detection model without changing the image too much. By experimenting with different standard deviations we found that `0.059` was fairly effective although it still requires a couple of attempts to get the flag."
   ]
  },
  {
   "cell_type": "code",
   "execution_count": 23,
   "metadata": {},
   "outputs": [
    {
     "name": "stdout",
     "output_type": "stream",
     "text": [
      "Flag accepted: True\n"
     ]
    }
   ],
   "source": [
    "image_original = Image.open(\"./data/bird.png\")\n",
    "array_original = np.array(image_original).astype(np.float32) / 255\n",
    "\n",
    "while True:\n",
    "    array = np.copy(array_original)\n",
    "    noise = np.random.normal(0.0, 0.059, array.shape)\n",
    "    array = (np.clip(array + noise, 0.0, 1.0) * 255).astype(np.uint8)\n",
    "    image = Image.fromarray(array)\n",
    "    \n",
    "    buff = io.BytesIO()\n",
    "    image.save(buff, format=\"PNG\")\n",
    "    data = base64.b64encode(buff.getvalue()).decode()\n",
    "    \n",
    "    response = query(data)\n",
    "    if \"flag\" in response:\n",
    "        print(\"Flag accepted:\", submit(response[\"flag\"]))\n",
    "        break\n",
    "    time.sleep(1)"
   ]
  }
 ],
 "metadata": {
  "kernelspec": {
   "display_name": "venv",
   "language": "python",
   "name": "python3"
  },
  "language_info": {
   "codemirror_mode": {
    "name": "ipython",
    "version": 3
   },
   "file_extension": ".py",
   "mimetype": "text/x-python",
   "name": "python",
   "nbconvert_exporter": "python",
   "pygments_lexer": "ipython3",
   "version": "3.8.10"
  }
 },
 "nbformat": 4,
 "nbformat_minor": 2
}
