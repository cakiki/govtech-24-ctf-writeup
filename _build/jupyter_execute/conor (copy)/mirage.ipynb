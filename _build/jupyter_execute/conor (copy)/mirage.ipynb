{
 "cells": [
  {
   "cell_type": "markdown",
   "metadata": {},
   "source": [
    "# Mirage\n",
    "\n",
    "## Helpers"
   ]
  },
  {
   "cell_type": "code",
   "execution_count": 4,
   "metadata": {},
   "outputs": [],
   "source": [
    "import numpy as np\n",
    "import os\n",
    "import requests\n",
    "from dotenv import load_dotenv\n",
    "from PIL import Image\n",
    "from string import ascii_lowercase as ASCII\n",
    "\n",
    "load_dotenv()\n",
    "API_KEY = os.environ[\"API_KEY\"]\n",
    "URL_QUERY = \"https://%s.crucible.dreadnode.io/score\"\n",
    "URL_FLAG = \"https://crucible.dreadnode.io/api/challenges/%s/submit-flag\"\n",
    "CHALLENGE = \"mirage\"\n",
    "\n",
    "def query(prompt):\n",
    "    response = requests.post(\n",
    "        URL_QUERY % CHALLENGE,\n",
    "        headers={ \"X-API-Key\": API_KEY },\n",
    "        json={ \"data\": prompt }\n",
    "    )\n",
    "    return response.json()\n",
    "\n",
    "def submit(flag):\n",
    "    response = requests.post(\n",
    "        URL_FLAG % CHALLENGE,\n",
    "        headers={ \"X-API-Key\": API_KEY },\n",
    "        json={ \"challenge\": CHALLENGE, \"flag\": flag }\n",
    "    )\n",
    "    return False if response.status_code != 200 else response.json().get(\"correct\")"
   ]
  },
  {
   "cell_type": "markdown",
   "metadata": {},
   "source": [
    "## Solution\n",
    "\n",
    "For this challenge we're given a fairly innocuous image:\n",
    "\n",
    "![mirage](./data/mirage.png)"
   ]
  },
  {
   "cell_type": "markdown",
   "metadata": {},
   "source": [
    "By running ExifTool against it we can find a hint that indicates we need to use a Caesar Cipher with a rotation of 3 (or -3)."
   ]
  },
  {
   "cell_type": "code",
   "execution_count": 2,
   "metadata": {},
   "outputs": [
    {
     "name": "stdout",
     "output_type": "stream",
     "text": [
      "ExifTool Version Number         : 11.88\n",
      "File Name                       : mirage.png\n",
      "Directory                       : ./data\n",
      "File Size                       : 1494 kB\n",
      "File Modification Date/Time     : 2024:11:05 07:21:07+00:00\n",
      "File Access Date/Time           : 2024:11:25 18:19:11+00:00\n",
      "File Inode Change Date/Time     : 2024:11:25 18:17:42+00:00\n",
      "File Permissions                : rw-rw-r--\n",
      "File Type                       : PNG\n",
      "File Type Extension             : png\n",
      "MIME Type                       : image/png\n",
      "Image Width                     : 1024\n",
      "Image Height                    : 1024\n",
      "Bit Depth                       : 8\n",
      "Color Type                      : RGB\n",
      "Compression                     : Deflate/Inflate\n",
      "Filter                          : Adaptive\n",
      "Interlace                       : Noninterlaced\n",
      "Author                          : Captain Codebeard\n",
      "Hint                            : Thar be secrets in the pixels that must be decoded!\n",
      "Key                             : Caesar Cipher 3\n",
      "Image Size                      : 1024x1024\n",
      "Megapixels                      : 1.0\n"
     ]
    }
   ],
   "source": [
    "!exiftool ./data/mirage.png"
   ]
  },
  {
   "cell_type": "markdown",
   "metadata": {},
   "source": [
    "We can extract of the least significant bit of each of the three colour channels for the first chunk of pixels and convert them to a binary string. We can then convert the bytes in that binary string into ASCII characters."
   ]
  },
  {
   "cell_type": "code",
   "execution_count": 7,
   "metadata": {},
   "outputs": [
    {
     "name": "stdout",
     "output_type": "stream",
     "text": [
      "{Q0w_Zk@w_Lw_Vh3pv}¶Ûm¶Û¶\n"
     ]
    }
   ],
   "source": [
    "# Extract LSB of the first 200 pixel values and convert them to a binary string\n",
    "str_binary = \"\".join([\n",
    "    str(value & 1)\n",
    "    for value in np.array(Image.open(\"./data/mirage.png\")).flatten()[:200]\n",
    "])\n",
    "\n",
    "# Convert the binary string to ASCII characters\n",
    "str_ascii = \"\".join([\n",
    "    chr(int(str_binary[i:i+8], 2))\n",
    "    for i in range(0, len(str_binary), 8)\n",
    "])\n",
    "\n",
    "print(str_ascii)"
   ]
  },
  {
   "cell_type": "markdown",
   "metadata": {},
   "source": [
    "The above string includes angle brackets which probably enclose the flag. We can decode the characters using a Caesar Cipher with a rotation of -3."
   ]
  },
  {
   "cell_type": "code",
   "execution_count": 9,
   "metadata": {},
   "outputs": [
    {
     "name": "stdout",
     "output_type": "stream",
     "text": [
      "{N0t_Wh@t_It_Se3ms}\n",
      "Flag accepted: True\n"
     ]
    }
   ],
   "source": [
    "# Extract the flag using a Caesar cipher (accounting for upper/lowercase)\n",
    "flag = \"\"\n",
    "for char_in in str_ascii:\n",
    "    char_lower = char_in.lower()\n",
    "    if char_lower in ASCII:\n",
    "        char_out = ASCII[(ASCII.index(char_lower) - 3) % 26]\n",
    "        flag += char_out if char_in.islower() else char_out.upper()\n",
    "    else:\n",
    "        flag += char_in\n",
    "    if char_in == \"}\":\n",
    "        break\n",
    "\n",
    "print(flag)\n",
    "print(\"Flag accepted:\", submit(query(flag)[\"flag\"]))"
   ]
  }
 ],
 "metadata": {
  "kernelspec": {
   "display_name": "venv",
   "language": "python",
   "name": "python3"
  },
  "language_info": {
   "codemirror_mode": {
    "name": "ipython",
    "version": 3
   },
   "file_extension": ".py",
   "mimetype": "text/x-python",
   "name": "python",
   "nbconvert_exporter": "python",
   "pygments_lexer": "ipython3",
   "version": "3.8.10"
  }
 },
 "nbformat": 4,
 "nbformat_minor": 2
}