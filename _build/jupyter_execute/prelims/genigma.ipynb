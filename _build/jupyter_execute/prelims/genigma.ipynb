{
 "cells": [
  {
   "cell_type": "markdown",
   "metadata": {},
   "source": [
    "# Genigma\n",
    "\n",
    "**DISCLAIMER:** our team did not solve this challenge during the live competition; we first solved it while preparing for this write-up.\n",
    "\n",
    "## Helpers"
   ]
  },
  {
   "cell_type": "code",
   "execution_count": 1,
   "metadata": {},
   "outputs": [],
   "source": [
    "import numpy as np\n",
    "import os\n",
    "import requests\n",
    "import time\n",
    "from dotenv import load_dotenv\n",
    "from string import ascii_uppercase, digits\n",
    "\n",
    "load_dotenv()\n",
    "API_KEY = os.environ[\"API_KEY\"]\n",
    "URL_QUERY = \"https://%s.crucible.dreadnode.io/%s\"\n",
    "URL_FLAG = \"https://crucible.dreadnode.io/api/challenges/%s/submit-flag\"\n",
    "CHALLENGE = \"genigma\"\n",
    "CHARS = ascii_uppercase + digits\n",
    "\n",
    "def query(data, route=\"score\"):\n",
    "    response = requests.post(\n",
    "        URL_QUERY % (CHALLENGE, route),\n",
    "        headers={ \"X-API-Key\": API_KEY },\n",
    "        json={ \"data\": data }\n",
    "    )\n",
    "    return response.json()\n",
    "\n",
    "def submit(flag):\n",
    "    response = requests.post(\n",
    "        URL_FLAG % CHALLENGE,\n",
    "        headers={ \"X-API-Key\": API_KEY },\n",
    "        json={ \"challenge\": CHALLENGE, \"flag\": flag }\n",
    "    )\n",
    "    return False if response.status_code != 200 else response.json().get(\"correct\")"
   ]
  },
  {
   "cell_type": "markdown",
   "metadata": {},
   "source": [
    "## Solution\n",
    "\n",
    "If we submit some random values to the endpoint we can see that it returns 16 logits."
   ]
  },
  {
   "cell_type": "code",
   "execution_count": 2,
   "metadata": {},
   "outputs": [
    {
     "data": {
      "text/plain": [
       "[[0.13794109654006212],\n",
       " [0.14017329184141292],\n",
       " [0.18642894700537402],\n",
       " [0.1637307606500884],\n",
       " [0.13963116830454997],\n",
       " [0.16077281815261674],\n",
       " [0.13729851190502865],\n",
       " [0.13969673425944382],\n",
       " [0.18523813603837574],\n",
       " [0.13947802411484708],\n",
       " [0.1383049461891841],\n",
       " [0.13842525959608593],\n",
       " [0.13832571431083493],\n",
       " [0.16387797054251438],\n",
       " [0.16311711035024368],\n",
       " [0.1879446894428261]]"
      ]
     },
     "execution_count": 2,
     "metadata": {},
     "output_type": "execute_result"
    }
   ],
   "source": [
    "data = np.zeros((100, 1))\n",
    "query(data.tolist(), route=\"predict\")[\"prediction\"]"
   ]
  },
  {
   "cell_type": "markdown",
   "metadata": {},
   "source": [
    "For each of the 16 logits we can submit 100 different queries where each query contains 99 zeros and a single large value. If we take the index which maximizes the logit and then index into the alphabet (including digits) we can find the flag.\n",
    "\n",
    "**Note:** for convenience, the below code only submits 36 different queries as it turns out that the logit is always maximized within the first 36 values."
   ]
  },
  {
   "cell_type": "code",
   "execution_count": 3,
   "metadata": {},
   "outputs": [
    {
     "name": "stdout",
     "output_type": "stream",
     "text": [
      "GEN0M1CINV3RS10N\n",
      "Flag accepted: True\n"
     ]
    }
   ],
   "source": [
    "flag_chars = []\n",
    "for logit in range(16):\n",
    "    max_value = 0.0\n",
    "    max_option = 0\n",
    "    for option in range(36):\n",
    "        data = np.zeros((100, 1))\n",
    "        data[option][0] = 100\n",
    "        response = query(data.tolist(), route=\"predict\")\n",
    "        value = response[\"prediction\"][logit][0]\n",
    "        if value > max_value:\n",
    "            max_value = value\n",
    "            max_option = option\n",
    "        time.sleep(0.1)\n",
    "    flag_chars.append(CHARS[max_option])\n",
    "\n",
    "flag = \"\".join(flag_chars)\n",
    "print(flag)\n",
    "print(\"Flag accepted:\", submit(query(flag)[\"flag\"]))"
   ]
  }
 ],
 "metadata": {
  "kernelspec": {
   "display_name": "venv",
   "language": "python",
   "name": "python3"
  },
  "language_info": {
   "codemirror_mode": {
    "name": "ipython",
    "version": 3
   },
   "file_extension": ".py",
   "mimetype": "text/x-python",
   "name": "python",
   "nbconvert_exporter": "python",
   "pygments_lexer": "ipython3",
   "version": "3.8.10"
  }
 },
 "nbformat": 4,
 "nbformat_minor": 2
}