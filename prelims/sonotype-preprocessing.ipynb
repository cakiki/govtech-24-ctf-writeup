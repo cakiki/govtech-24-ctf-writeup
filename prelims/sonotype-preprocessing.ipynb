{
 "cells": [
  {
   "cell_type": "markdown",
   "metadata": {},
   "source": [
    "# Sonotype Preprocessing"
   ]
  },
  {
   "cell_type": "markdown",
   "metadata": {},
   "source": [
    "Before we could begin training a model on the keystroke data and recover the password from the audio, we needed to split each audio file into individual files, with each one containing exactly one keypress. We found that the [`pydub`](https://github.com/jiaaro/pydub) module allowed us to automate this process relatively easily.\n",
    "\n",
    "We also used *data augmentation* to both increase the amount of data available for training the model, as well as regularize the said model. We used multiple random combinations of four augmentation methods on each input file:\n",
    "\n",
    "- **padding:** adding a random amount of silence to the beginning and end of an audio clip.\n",
    "\n",
    "- **cropping:** removing the start and end of the audio clip.\n",
    "\n",
    "- **volume:** scaling each sample in the audio clip by a random amount.\n",
    "\n",
    "- **noise:** adding normally distributed noise to the entire audio clip."
   ]
  },
  {
   "cell_type": "code",
   "execution_count": null,
   "metadata": {},
   "outputs": [],
   "source": [
    "import glob\n",
    "import librosa\n",
    "import numpy as np\n",
    "from pydub import AudioSegment\n",
    "from pydub.silence import split_on_silence\n",
    "from random import choices, randint, shuffle, uniform\n",
    "from scipy.io import wavfile"
   ]
  },
  {
   "cell_type": "code",
   "execution_count": null,
   "metadata": {},
   "outputs": [],
   "source": [
    "for path in sorted(glob.glob(\"./keystrokes/*.wav\")):\n",
    "    audio = AudioSegment.from_wav(path)\n",
    "    chunks = split_on_silence(\n",
    "        audio,\n",
    "        min_silence_len=300,\n",
    "        silence_thresh=audio.dBFS-8\n",
    "    )\n",
    "    stroke = path.split(\"/\")[-1].split(\".\")[0].split(\"_\")[-1]\n",
    "    for i, c in enumerate(chunks):\n",
    "        arr = np.array(c.get_array_of_samples())\n",
    "        fname = stroke + \"_\" + str(i) + \".wav\"\n",
    "        wavfile.write(filename=f\"./train/{fname}\", rate=44100, data=arr)"
   ]
  },
  {
   "cell_type": "code",
   "execution_count": null,
   "metadata": {},
   "outputs": [],
   "source": [
    "AUGS = ['pad', 'crop', 'noise', 'volume']\n",
    "\n",
    "def augpad(y):\n",
    "    l = len(y)\n",
    "    p0 = uniform(0.02, 0.15)\n",
    "    p1 = uniform(0.02, 0.15)\n",
    "    l0 = int(p0 * l)\n",
    "    l1 = int(p1 * l)\n",
    "    start = np.random.uniform(0, 0.005, (l0,))\n",
    "    end = np.random.uniform(0, 0.005, (l1,))\n",
    "    return np.concatenate((start, y, end))\n",
    "\n",
    "def augcrop(y):\n",
    "    l = len(y)\n",
    "    p0 = uniform(0.02, 0.15)\n",
    "    p1 = uniform(0.02, 0.15)\n",
    "    l0 = int(p0 * l)\n",
    "    l1 = int(p1 * l)\n",
    "    return y[l0:-l1]\n",
    "\n",
    "def augnoise(y):\n",
    "    noise = np.random.normal(0, 0.001, y.shape)\n",
    "    return y + noise\n",
    "\n",
    "def augvol(y):\n",
    "    f = 1 + np.random.uniform(-0.1, 0.1)\n",
    "    return y * f\n",
    "\n",
    "def augment(path):\n",
    "    outs = []\n",
    "    _y, _ = librosa.load(path, sr=22050)\n",
    "    outs.append(_y)\n",
    "    for _ in range(11):\n",
    "        y, _ = librosa.load(path, sr=22050)\n",
    "        n_augs = randint(1, 4)\n",
    "        augs = choices(AUGS, k=n_augs)\n",
    "        shuffle(augs)\n",
    "        for aug in augs:\n",
    "            if aug == 'pad':\n",
    "                y = augpad(y)\n",
    "            elif aug == 'crop':\n",
    "                y = augcrop(y)\n",
    "            elif aug == 'noise':\n",
    "                y = augnoise(y)\n",
    "            else:\n",
    "                y = augvol(y)\n",
    "        outs.append(y)\n",
    "    return outs\n",
    "\n",
    "paths_by_key = {}\n",
    "for path in sorted(glob.glob(\"./train/*.wav\")):\n",
    "    key = path.split(\"/\")[-1].split(\"_\")[0]\n",
    "    if key not in paths_by_key:\n",
    "        paths_by_key[key] = []\n",
    "    paths_by_key[key].append(path)\n",
    "\n",
    "for key, paths in paths_by_key.items():\n",
    "    i = 0\n",
    "    for path in paths:\n",
    "        outs = augment(path)\n",
    "        for out in outs:\n",
    "            outpath = \"./train_aug/\" + key + \"_\" + str(i).zfill(3) + \".wav\"\n",
    "            wavfile.write(outpath, 22050, out)\n",
    "            i += 1"
   ]
  }
 ],
 "metadata": {
  "kernelspec": {
   "display_name": "venv",
   "language": "python",
   "name": "python3"
  },
  "language_info": {
   "name": "python",
   "version": "3.8.10"
  }
 },
 "nbformat": 4,
 "nbformat_minor": 2
}
