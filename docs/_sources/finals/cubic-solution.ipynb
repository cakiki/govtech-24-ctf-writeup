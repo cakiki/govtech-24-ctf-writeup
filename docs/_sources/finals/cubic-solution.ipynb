{
 "cells": [
  {
   "cell_type": "markdown",
   "metadata": {},
   "source": [
    "# Cubic\n",
    "\n",
    "## Helpers"
   ]
  },
  {
   "cell_type": "code",
   "execution_count": 3,
   "metadata": {},
   "outputs": [],
   "source": [
    "import numpy as np\n",
    "import os\n",
    "import requests\n",
    "import time\n",
    "from dotenv import load_dotenv\n",
    "from string import ascii_uppercase as CHARS\n",
    "\n",
    "load_dotenv()\n",
    "API_KEY = os.environ[\"API_KEY\"]\n",
    "URL_QUERY = \"https://%s.crucible.dreadnode.io/%s\"\n",
    "URL_FLAG = \"https://crucible.dreadnode.io/api/challenges/%s/submit-flag\"\n",
    "CHALLENGE = \"cubic\"\n",
    "\n",
    "def query(data, route=\"score\"):\n",
    "    response = requests.post(\n",
    "        URL_QUERY % (CHALLENGE, route),\n",
    "        headers={ \"X-API-Key\": API_KEY },\n",
    "        json={ \"data\": data }\n",
    "    )\n",
    "    return response.json()\n",
    "\n",
    "def submit(flag):\n",
    "    response = requests.post(\n",
    "        URL_FLAG % CHALLENGE,\n",
    "        headers={ \"X-API-Key\": API_KEY },\n",
    "        json={ \"challenge\": CHALLENGE, \"flag\": flag }\n",
    "    )\n",
    "    return False if response.status_code != 200 else response.json().get(\"correct\")"
   ]
  },
  {
   "cell_type": "markdown",
   "metadata": {},
   "source": [
    "## Solution\n",
    "\n",
    "If we submit some random values to the endpoint we can see that it returns 12 logits."
   ]
  },
  {
   "cell_type": "code",
   "execution_count": 2,
   "metadata": {},
   "outputs": [
    {
     "data": {
      "text/plain": [
       "[[0.27251669404844703],\n",
       " [0.26096517762029814],\n",
       " [0.2632274650925554],\n",
       " [0.31077285026202944],\n",
       " [0.31527584262764974],\n",
       " [0.2507438205101342],\n",
       " [0.2499624217505734],\n",
       " [0.27631836345169647],\n",
       " [0.27471431660350865],\n",
       " [0.2710597178020978],\n",
       " [0.31458430128313064],\n",
       " [0.3137506504889416]]"
      ]
     },
     "execution_count": 2,
     "metadata": {},
     "output_type": "execute_result"
    }
   ],
   "source": [
    "data = np.zeros((64, 1))\n",
    "query(data.tolist(), route=\"predict\")[\"prediction\"]"
   ]
  },
  {
   "cell_type": "markdown",
   "metadata": {},
   "source": [
    "Similar to _Genigma_, for each of the 12 logits we can submit 64 different queries where each query contains 63 zeros and a single large value. If we take the index which maximizes the logit and then reverse index into the alphabet we can find the flag.\n",
    "\n",
    "**Note:** for convenience, the below code only submits 26 different queries as it turns out that the logit is always maximized within the first 26 values."
   ]
  },
  {
   "cell_type": "code",
   "execution_count": 4,
   "metadata": {},
   "outputs": [
    {
     "name": "stdout",
     "output_type": "stream",
     "text": [
      "THREEBYTHREE\n",
      "Flag accepted: True\n"
     ]
    }
   ],
   "source": [
    "flag_chars = []\n",
    "for logit in range(12):\n",
    "    max_value = 0.0\n",
    "    max_option = 0\n",
    "    for option in range(26):\n",
    "        data = np.zeros((64, 1))\n",
    "        data[option][0] = 100\n",
    "        response = query(data.tolist(), route=\"predict\")\n",
    "        value = response[\"prediction\"][logit][0]\n",
    "        if value > max_value:\n",
    "            max_value = value\n",
    "            max_option = option\n",
    "        time.sleep(1)\n",
    "    flag_chars.append(CHARS[25 - max_option])\n",
    "\n",
    "flag = \"\".join(flag_chars)\n",
    "print(flag)\n",
    "print(\"Flag accepted:\", submit(query(flag)[\"flag\"]))"
   ]
  }
 ],
 "metadata": {
  "kernelspec": {
   "display_name": "venv",
   "language": "python",
   "name": "python3"
  },
  "language_info": {
   "codemirror_mode": {
    "name": "ipython",
    "version": 3
   },
   "file_extension": ".py",
   "mimetype": "text/x-python",
   "name": "python",
   "nbconvert_exporter": "python",
   "pygments_lexer": "ipython3",
   "version": "3.8.10"
  }
 },
 "nbformat": 4,
 "nbformat_minor": 2
}
