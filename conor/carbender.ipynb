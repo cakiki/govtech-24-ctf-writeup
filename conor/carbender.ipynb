{
 "cells": [
  {
   "cell_type": "markdown",
   "metadata": {},
   "source": [
    "# Carbender\n",
    "\n",
    "## Helpers"
   ]
  },
  {
   "cell_type": "code",
   "execution_count": 23,
   "metadata": {},
   "outputs": [],
   "source": [
    "import os\n",
    "import requests\n",
    "from datetime import datetime, timedelta\n",
    "from dotenv import load_dotenv\n",
    "\n",
    "load_dotenv()\n",
    "API_KEY = os.environ[\"API_KEY\"]\n",
    "URL_QUERY = \"https://%s.crucible.dreadnode.io/score\"\n",
    "URL_FLAG = \"https://crucible.dreadnode.io/api/challenges/%s/submit-flag\"\n",
    "CHALLENGE = \"carbender\"\n",
    "\n",
    "def query(data):\n",
    "    response = requests.post(\n",
    "        URL_QUERY % CHALLENGE,\n",
    "        headers={ \"X-API-Key\": API_KEY },\n",
    "        json={ \"bookings\": data }\n",
    "    )\n",
    "    return response.json()\n",
    "\n",
    "def submit(flag):\n",
    "    response = requests.post(\n",
    "        URL_FLAG % CHALLENGE,\n",
    "        headers={ \"X-API-Key\": API_KEY },\n",
    "        json={ \"challenge\": CHALLENGE, \"flag\": flag }\n",
    "    )\n",
    "    return False if response.status_code != 200 else response.json().get(\"correct\")"
   ]
  },
  {
   "cell_type": "markdown",
   "metadata": {},
   "source": [
    "## Solution\n",
    "\n",
    "If we submit a booking for `2023-05-29` (a Monday) we can see that the car rental prices are fairly consistent with the only differences for a single car type being that weekend bookings are more expensive."
   ]
  },
  {
   "cell_type": "code",
   "execution_count": 14,
   "metadata": {},
   "outputs": [
    {
     "data": {
      "text/plain": [
       "{'sedan': {'2023-05-29': 119.0,\n",
       "  '2023-05-28': 139.0,\n",
       "  '2023-05-27': 139.0,\n",
       "  '2023-05-26': 119.0,\n",
       "  '2023-05-25': 119.0,\n",
       "  '2023-05-24': 119.0,\n",
       "  '2023-05-23': 119.0},\n",
       " 'suv': {'2023-05-29': 159.0,\n",
       "  '2023-05-28': 179.0,\n",
       "  '2023-05-27': 179.0,\n",
       "  '2023-05-26': 159.0,\n",
       "  '2023-05-25': 159.0,\n",
       "  '2023-05-24': 159.0,\n",
       "  '2023-05-23': 159.0},\n",
       " 'luxury': {'2023-05-29': 189.0,\n",
       "  '2023-05-28': 209.0,\n",
       "  '2023-05-27': 209.0,\n",
       "  '2023-05-26': 189.0,\n",
       "  '2023-05-25': 189.0,\n",
       "  '2023-05-24': 189.0,\n",
       "  '2023-05-23': 189.0}}"
      ]
     },
     "execution_count": 14,
     "metadata": {},
     "output_type": "execute_result"
    }
   ],
   "source": [
    "data = [\n",
    "    { \"car_type\": \"luxury\", \"date\": \"2023-05-29\", \"action\": \"book\", \"created_date\": \"2022-05-01\", }\n",
    "]\n",
    "query(data)[\"prices\"]"
   ]
  },
  {
   "cell_type": "markdown",
   "metadata": {},
   "source": [
    "However, if we submit and cancel booking on a Monday prior to `2023-05-29` we can see that the booking price for `2023-05-29` will decrease slightly."
   ]
  },
  {
   "cell_type": "code",
   "execution_count": 15,
   "metadata": {},
   "outputs": [
    {
     "data": {
      "text/plain": [
       "{'sedan': {'2023-05-29': 119.0,\n",
       "  '2023-05-28': 139.0,\n",
       "  '2023-05-27': 139.0,\n",
       "  '2023-05-26': 119.0,\n",
       "  '2023-05-25': 119.0,\n",
       "  '2023-05-24': 119.0,\n",
       "  '2023-05-23': 119.0},\n",
       " 'suv': {'2023-05-29': 159.0,\n",
       "  '2023-05-28': 179.0,\n",
       "  '2023-05-27': 179.0,\n",
       "  '2023-05-26': 159.0,\n",
       "  '2023-05-25': 159.0,\n",
       "  '2023-05-24': 159.0,\n",
       "  '2023-05-23': 159.0},\n",
       " 'luxury': {'2023-05-29': 186.54,\n",
       "  '2023-05-28': 209.0,\n",
       "  '2023-05-27': 209.0,\n",
       "  '2023-05-26': 189.0,\n",
       "  '2023-05-25': 189.0,\n",
       "  '2023-05-24': 189.0,\n",
       "  '2023-05-23': 189.0}}"
      ]
     },
     "execution_count": 15,
     "metadata": {},
     "output_type": "execute_result"
    }
   ],
   "source": [
    "data = [\n",
    "    { \"car_type\": \"luxury\", \"date\": \"2023-05-22\", \"action\": \"book\", \"created_date\": \"2022-05-01\", },\n",
    "    { \"car_type\": \"luxury\", \"date\": \"2023-05-22\", \"action\": \"cancel\", \"created_date\": \"2022-05-02\", },\n",
    "]\n",
    "query(data)[\"prices\"]"
   ]
  },
  {
   "cell_type": "markdown",
   "metadata": {},
   "source": [
    "We are allowed to book and cancel up to seven times so we can repeat this process for seven Mondays prior to `2023-05-29` to decrease the price as much as possible. This will give us the flag."
   ]
  },
  {
   "cell_type": "code",
   "execution_count": 24,
   "metadata": {},
   "outputs": [
    {
     "name": "stdout",
     "output_type": "stream",
     "text": [
      "Flag accepted: True\n"
     ]
    }
   ],
   "source": [
    "date_booking = datetime.strptime(\"2023-05-29\", \"%Y-%m-%d\")\n",
    "\n",
    "date_create_booking = \"2022-05-01\"\n",
    "date_create_cancel = \"2022-05-02\"\n",
    "\n",
    "data = []\n",
    "for weeks in range(1, 8):\n",
    "    date_booking_new = (date_booking - timedelta(weeks=weeks)).strftime(\"%Y-%m-%d\")\n",
    "    data.extend([\n",
    "        { \"car_type\": \"luxury\", \"date\": date_booking_new, \"action\": \"book\", \"created_date\": date_create_booking, },\n",
    "        { \"car_type\": \"luxury\", \"date\": date_booking_new, \"action\": \"cancel\", \"created_date\": date_create_cancel, }\n",
    "    ])\n",
    "\n",
    "response = query(data)\n",
    "print(\"Flag accepted:\", submit(response[\"flag\"]))"
   ]
  }
 ],
 "metadata": {
  "kernelspec": {
   "display_name": "venv",
   "language": "python",
   "name": "python3"
  },
  "language_info": {
   "codemirror_mode": {
    "name": "ipython",
    "version": 3
   },
   "file_extension": ".py",
   "mimetype": "text/x-python",
   "name": "python",
   "nbconvert_exporter": "python",
   "pygments_lexer": "ipython3",
   "version": "3.8.10"
  }
 },
 "nbformat": 4,
 "nbformat_minor": 2
}
